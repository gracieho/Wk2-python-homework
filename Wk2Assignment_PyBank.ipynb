{
 "cells": [
  {
   "cell_type": "code",
   "execution_count": 1,
   "id": "indie-melissa",
   "metadata": {},
   "outputs": [
    {
     "data": {
      "text/html": [
       "<div>\n",
       "<style scoped>\n",
       "    .dataframe tbody tr th:only-of-type {\n",
       "        vertical-align: middle;\n",
       "    }\n",
       "\n",
       "    .dataframe tbody tr th {\n",
       "        vertical-align: top;\n",
       "    }\n",
       "\n",
       "    .dataframe thead th {\n",
       "        text-align: right;\n",
       "    }\n",
       "</style>\n",
       "<table border=\"1\" class=\"dataframe\">\n",
       "  <thead>\n",
       "    <tr style=\"text-align: right;\">\n",
       "      <th></th>\n",
       "      <th>Date</th>\n",
       "      <th>Profit/Losses</th>\n",
       "    </tr>\n",
       "  </thead>\n",
       "  <tbody>\n",
       "    <tr>\n",
       "      <th>0</th>\n",
       "      <td>Jan-2010</td>\n",
       "      <td>867884</td>\n",
       "    </tr>\n",
       "    <tr>\n",
       "      <th>1</th>\n",
       "      <td>Feb-2010</td>\n",
       "      <td>984655</td>\n",
       "    </tr>\n",
       "    <tr>\n",
       "      <th>2</th>\n",
       "      <td>Mar-2010</td>\n",
       "      <td>322013</td>\n",
       "    </tr>\n",
       "    <tr>\n",
       "      <th>3</th>\n",
       "      <td>Apr-2010</td>\n",
       "      <td>-69417</td>\n",
       "    </tr>\n",
       "    <tr>\n",
       "      <th>4</th>\n",
       "      <td>May-2010</td>\n",
       "      <td>310503</td>\n",
       "    </tr>\n",
       "    <tr>\n",
       "      <th>...</th>\n",
       "      <td>...</td>\n",
       "      <td>...</td>\n",
       "    </tr>\n",
       "    <tr>\n",
       "      <th>81</th>\n",
       "      <td>Oct-2016</td>\n",
       "      <td>102685</td>\n",
       "    </tr>\n",
       "    <tr>\n",
       "      <th>82</th>\n",
       "      <td>Nov-2016</td>\n",
       "      <td>795914</td>\n",
       "    </tr>\n",
       "    <tr>\n",
       "      <th>83</th>\n",
       "      <td>Dec-2016</td>\n",
       "      <td>60988</td>\n",
       "    </tr>\n",
       "    <tr>\n",
       "      <th>84</th>\n",
       "      <td>Jan-2017</td>\n",
       "      <td>138230</td>\n",
       "    </tr>\n",
       "    <tr>\n",
       "      <th>85</th>\n",
       "      <td>Feb-2017</td>\n",
       "      <td>671099</td>\n",
       "    </tr>\n",
       "  </tbody>\n",
       "</table>\n",
       "<p>86 rows × 2 columns</p>\n",
       "</div>"
      ],
      "text/plain": [
       "        Date  Profit/Losses\n",
       "0   Jan-2010         867884\n",
       "1   Feb-2010         984655\n",
       "2   Mar-2010         322013\n",
       "3   Apr-2010         -69417\n",
       "4   May-2010         310503\n",
       "..       ...            ...\n",
       "81  Oct-2016         102685\n",
       "82  Nov-2016         795914\n",
       "83  Dec-2016          60988\n",
       "84  Jan-2017         138230\n",
       "85  Feb-2017         671099\n",
       "\n",
       "[86 rows x 2 columns]"
      ]
     },
     "execution_count": 1,
     "metadata": {},
     "output_type": "execute_result"
    }
   ],
   "source": [
    "\"\"\"\n",
    "Week 2 Assignment - PyBank\n",
    "To analyse the monthly profit and loss results.\n",
    "\"\"\"\n",
    "\n",
    "# Call the datafile using pandas:\n",
    "import pandas as pd\n",
    "df = pd.read_csv('Wk2Homework_PyBankBudgetData.csv')\n",
    "df"
   ]
  },
  {
   "cell_type": "code",
   "execution_count": 2,
   "id": "compact-liberty",
   "metadata": {},
   "outputs": [],
   "source": [
    "#df[‘column’].sum() sums the columns value\n",
    "#df[‘column’].min()  takes min columns value\n",
    "#similarliy max, median,"
   ]
  },
  {
   "cell_type": "code",
   "execution_count": 3,
   "id": "breathing-trace",
   "metadata": {},
   "outputs": [
    {
     "name": "stdout",
     "output_type": "stream",
     "text": [
      "86\n"
     ]
    }
   ],
   "source": [
    "# Count number of rows to determine number of months in the dataset:\n",
    "months = df['Date'].count()\n",
    "print(months)"
   ]
  },
  {
   "cell_type": "code",
   "execution_count": 4,
   "id": "higher-palestine",
   "metadata": {},
   "outputs": [
    {
     "name": "stdout",
     "output_type": "stream",
     "text": [
      "38382578\n"
     ]
    }
   ],
   "source": [
    "# The net total amount of Profit/Losses over the entire period:\n",
    "net_pnl = df['Profit/Losses'].sum()\n",
    "print(net_pnl)"
   ]
  },
  {
   "cell_type": "code",
   "execution_count": 5,
   "id": "blocked-charity",
   "metadata": {},
   "outputs": [
    {
     "name": "stdout",
     "output_type": "stream",
     "text": [
      "446309.05\n"
     ]
    }
   ],
   "source": [
    "# The average of the changes in Profit/Losses over the entire period:\n",
    "average_change = net_pnl / months\n",
    "print(round(average_change,2))"
   ]
  },
  {
   "cell_type": "code",
   "execution_count": 6,
   "id": "fewer-separation",
   "metadata": {},
   "outputs": [
    {
     "name": "stdout",
     "output_type": "stream",
     "text": [
      "0          NaN\n",
      "1     116771.0\n",
      "2    -662642.0\n",
      "3    -391430.0\n",
      "4     379920.0\n",
      "        ...   \n",
      "81   -665765.0\n",
      "82    693229.0\n",
      "83   -734926.0\n",
      "84     77242.0\n",
      "85    532869.0\n",
      "Name: Profit/Losses, Length: 86, dtype: float64\n"
     ]
    }
   ],
   "source": [
    "# Show monthly change\n",
    "mthly_change = df['Profit/Losses'].diff()\n",
    "print(mthly_change)"
   ]
  },
  {
   "cell_type": "code",
   "execution_count": 7,
   "id": "backed-european",
   "metadata": {},
   "outputs": [
    {
     "name": "stdout",
     "output_type": "stream",
     "text": [
      "-196785.0\n"
     ]
    }
   ],
   "source": [
    "# Sum monthly change\n",
    "print(mthly_change.sum())"
   ]
  },
  {
   "cell_type": "code",
   "execution_count": 8,
   "id": "surrounded-flesh",
   "metadata": {},
   "outputs": [
    {
     "data": {
      "text/plain": [
       "-2288.2"
      ]
     },
     "execution_count": 8,
     "metadata": {},
     "output_type": "execute_result"
    }
   ],
   "source": [
    "# Calculate Average Mthly Change\n",
    "avg_mthly_change = mthly_change.sum() / months\n",
    "round(avg_mthly_change,2)"
   ]
  },
  {
   "cell_type": "code",
   "execution_count": 9,
   "id": "shaped-priest",
   "metadata": {},
   "outputs": [
    {
     "data": {
      "text/html": [
       "<div>\n",
       "<style scoped>\n",
       "    .dataframe tbody tr th:only-of-type {\n",
       "        vertical-align: middle;\n",
       "    }\n",
       "\n",
       "    .dataframe tbody tr th {\n",
       "        vertical-align: top;\n",
       "    }\n",
       "\n",
       "    .dataframe thead th {\n",
       "        text-align: right;\n",
       "    }\n",
       "</style>\n",
       "<table border=\"1\" class=\"dataframe\">\n",
       "  <thead>\n",
       "    <tr style=\"text-align: right;\">\n",
       "      <th></th>\n",
       "      <th>Date</th>\n",
       "      <th>Profit/Losses</th>\n",
       "    </tr>\n",
       "    <tr>\n",
       "      <th>Date</th>\n",
       "      <th></th>\n",
       "      <th></th>\n",
       "    </tr>\n",
       "  </thead>\n",
       "  <tbody>\n",
       "    <tr>\n",
       "      <th>2010-01-01</th>\n",
       "      <td>Jan-2010</td>\n",
       "      <td>867884</td>\n",
       "    </tr>\n",
       "    <tr>\n",
       "      <th>2010-02-01</th>\n",
       "      <td>Feb-2010</td>\n",
       "      <td>984655</td>\n",
       "    </tr>\n",
       "    <tr>\n",
       "      <th>2010-03-01</th>\n",
       "      <td>Mar-2010</td>\n",
       "      <td>322013</td>\n",
       "    </tr>\n",
       "    <tr>\n",
       "      <th>2010-04-01</th>\n",
       "      <td>Apr-2010</td>\n",
       "      <td>-69417</td>\n",
       "    </tr>\n",
       "    <tr>\n",
       "      <th>2010-05-01</th>\n",
       "      <td>May-2010</td>\n",
       "      <td>310503</td>\n",
       "    </tr>\n",
       "  </tbody>\n",
       "</table>\n",
       "</div>"
      ],
      "text/plain": [
       "                Date  Profit/Losses\n",
       "Date                               \n",
       "2010-01-01  Jan-2010         867884\n",
       "2010-02-01  Feb-2010         984655\n",
       "2010-03-01  Mar-2010         322013\n",
       "2010-04-01  Apr-2010         -69417\n",
       "2010-05-01  May-2010         310503"
      ]
     },
     "execution_count": 9,
     "metadata": {},
     "output_type": "execute_result"
    }
   ],
   "source": [
    "# Rename current row index to the Month (Set Date as Index)\n",
    "df.set_index(pd.to_datetime(df['Date'], infer_datetime_format=True), inplace=True)\n",
    "df.head()"
   ]
  },
  {
   "cell_type": "code",
   "execution_count": 10,
   "id": "frozen-parks",
   "metadata": {},
   "outputs": [
    {
     "name": "stdout",
     "output_type": "stream",
     "text": [
      "Date\n",
      "2010-01-01         NaN\n",
      "2010-02-01    116771.0\n",
      "2010-03-01   -662642.0\n",
      "2010-04-01   -391430.0\n",
      "2010-05-01    379920.0\n",
      "                ...   \n",
      "2016-10-01   -665765.0\n",
      "2016-11-01    693229.0\n",
      "2016-12-01   -734926.0\n",
      "2017-01-01     77242.0\n",
      "2017-02-01    532869.0\n",
      "Name: Profit/Losses, Length: 86, dtype: float64\n"
     ]
    }
   ],
   "source": [
    "# Set Date as Index for change\n",
    "mthly_change = df['Profit/Losses'].diff()\n",
    "print(mthly_change)"
   ]
  },
  {
   "cell_type": "code",
   "execution_count": 11,
   "id": "short-field",
   "metadata": {},
   "outputs": [
    {
     "name": "stdout",
     "output_type": "stream",
     "text": [
      "1926159.0\n"
     ]
    }
   ],
   "source": [
    "# The greatest increase in profits (date and amount) over the entire period.\n",
    "greatest_incr = mthly_change.max()\n",
    "print(greatest_incr)"
   ]
  },
  {
   "cell_type": "code",
   "execution_count": 12,
   "id": "contemporary-jurisdiction",
   "metadata": {},
   "outputs": [
    {
     "name": "stdout",
     "output_type": "stream",
     "text": [
      "                Date  Profit/Losses\n",
      "Date                               \n",
      "2012-02-01  Feb-2012        1170593\n"
     ]
    }
   ],
   "source": [
    "# Find month of the max change\n",
    "print (df.loc[df['Profit/Losses'].diff() == greatest_incr])"
   ]
  },
  {
   "cell_type": "code",
   "execution_count": 13,
   "id": "plain-subsection",
   "metadata": {},
   "outputs": [
    {
     "name": "stdout",
     "output_type": "stream",
     "text": [
      "-2196167.0\n"
     ]
    }
   ],
   "source": [
    "# The greatest decrease in losses (date and amount) over the entire period.\n",
    "greatest_decr = mthly_change.min()\n",
    "print(greatest_decr)"
   ]
  },
  {
   "cell_type": "code",
   "execution_count": 14,
   "id": "neutral-survival",
   "metadata": {},
   "outputs": [
    {
     "name": "stdout",
     "output_type": "stream",
     "text": [
      "                Date  Profit/Losses\n",
      "Date                               \n",
      "2013-09-01  Sep-2013       -1196225\n"
     ]
    }
   ],
   "source": [
    "# Find month of the min change?????\n",
    "print (df.loc[df['Profit/Losses'].diff() == greatest_decr])"
   ]
  },
  {
   "cell_type": "code",
   "execution_count": null,
   "id": "constitutional-lunch",
   "metadata": {},
   "outputs": [],
   "source": []
  },
  {
   "cell_type": "code",
   "execution_count": 15,
   "id": "veterinary-cooler",
   "metadata": {},
   "outputs": [],
   "source": [
    "# Print out all outputs neatly in sentences.\n",
    "#Print(\"Financial Analysis\")\n",
    "#\"----------------------------\"\n",
    "output_months = f\"Total Months: {months}\"\n",
    "output_total = f\"Total: ${net_pnl}\"\n",
    "#Average  Change: $-2315.12\n",
    "#Greatest Increase in Profits: Feb-2012 ($1926159)\n",
    "#Greatest Decrease in Profits: Sep-2013 ($-2196167)\n"
   ]
  },
  {
   "cell_type": "code",
   "execution_count": 16,
   "id": "sound-confidentiality",
   "metadata": {},
   "outputs": [
    {
     "name": "stdout",
     "output_type": "stream",
     "text": [
      "Financial Analysis\n",
      "----------------------------\n",
      "Total Months: 86\n",
      "Total: $38382578\n",
      "Average Change: $-2288.2\n",
      "Greatest Increase in Profits: Feb-2012 $ 1926159.0 )\n",
      "Greatest Decrease in Profits: Sep-2013 $ -2196167.0 )\n"
     ]
    }
   ],
   "source": [
    "print(\"Financial Analysis\")\n",
    "print(\"----------------------------\")\n",
    "print(output_months)\n",
    "print(output_total)\n",
    "print(f\"Average Change: ${round(avg_mthly_change,2)}\")\n",
    "print(f\"Greatest Increase in Profits: Feb-2012 $\",greatest_incr,\")\")\n",
    "print(f\"Greatest Decrease in Profits: Sep-2013 $\",greatest_decr,\")\")"
   ]
  },
  {
   "cell_type": "code",
   "execution_count": 17,
   "id": "responsible-ordering",
   "metadata": {},
   "outputs": [],
   "source": [
    "# Print the output in a text file\n",
    "answer_string = \"Financial Analysis \\n\"\n",
    "answer_string += \"---------------------------- \\n\"\n",
    "answer_string += \"Total Months: 86 \\n\"\n",
    "answer_string += \"Total: $38382578 \\n\"\n",
    "answer_string += \"Average Change: $-2288.2 \\n\"\n",
    "answer_string += \"Greatest Increase in Profits: Feb-2012 $ 1926159.0 ) \\n\"\n",
    "answer_string += \"Greatest Decrease in Profits: Sep-2013 $ -2196167.0 ) \\n\"\n",
    "with open('sample.txt', 'w') as text_file:\n",
    "    text_file.write(answer_string)\n"
   ]
  }
 ],
 "metadata": {
  "kernelspec": {
   "display_name": "Python 3",
   "language": "python",
   "name": "python3"
  },
  "language_info": {
   "codemirror_mode": {
    "name": "ipython",
    "version": 3
   },
   "file_extension": ".py",
   "mimetype": "text/x-python",
   "name": "python",
   "nbconvert_exporter": "python",
   "pygments_lexer": "ipython3",
   "version": "3.8.5"
  }
 },
 "nbformat": 4,
 "nbformat_minor": 5
}
